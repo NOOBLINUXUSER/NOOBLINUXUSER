{
  "nbformat": 4,
  "nbformat_minor": 0,
  "metadata": {
    "colab": {
      "provenance": [],
      "authorship_tag": "ABX9TyOTBN88iUMJPMz78vLHf6TX",
      "include_colab_link": true
    },
    "kernelspec": {
      "name": "python3",
      "display_name": "Python 3"
    },
    "language_info": {
      "name": "python"
    }
  },
  "cells": [
    {
      "cell_type": "markdown",
      "metadata": {
        "id": "view-in-github",
        "colab_type": "text"
      },
      "source": [
        "<a href=\"https://colab.research.google.com/github/NOOBLINUXUSER/NOOBLINUXUSER/blob/main/Untitled2.ipynb\" target=\"_parent\"><img src=\"https://colab.research.google.com/assets/colab-badge.svg\" alt=\"Open In Colab\"/></a>"
      ]
    },
    {
      "cell_type": "code",
      "execution_count": null,
      "metadata": {
        "colab": {
          "base_uri": "https://localhost:8080/"
        },
        "id": "5nPESKu1YMsu",
        "outputId": "73263a79-0de0-441f-b536-4ee4ce02cd64"
      },
      "outputs": [
        {
          "output_type": "stream",
          "name": "stdout",
          "text": [
            "Line 1 - Value of c is  31\n",
            "Line 2 - Value of c is  52\n",
            "Line 3 - Value of c is  1092\n",
            "Line 4 - Value of c is  52.0\n",
            "Line 5 - Value of c is  2\n",
            "Line 6 - Value of c is  2097152\n",
            "Line 7 - Value of c is  99864\n"
          ]
        }
      ],
      "source": [
        "a = 21\n",
        "b = 10\n",
        "c = 0\n",
        "c = a + b\n",
        "print (\"Line 1 - Value of c is \", c)\n",
        "c += a\n",
        "print (\"Line 2 - Value of c is \", c )\n",
        "c *= a\n",
        "print (\"Line 3 - Value of c is \", c )\n",
        "c /= a\n",
        "print (\"Line 4 - Value of c is \", c )\n",
        "c = 2\n",
        "c %= a\n",
        "print (\"Line 5 - Value of c is \", c)\n",
        "c **= a\n",
        "print (\"Line 6 - Value of c is \", c)\n",
        "c //= a\n",
        "print (\"Line 7 - Value of c is \", c)"
      ]
    },
    {
      "cell_type": "code",
      "source": [],
      "metadata": {
        "id": "-V71WKkcL0mZ"
      },
      "execution_count": null,
      "outputs": []
    }
  ]
}