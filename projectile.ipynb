{
  "nbformat": 4,
  "nbformat_minor": 0,
  "metadata": {
    "colab": {
      "provenance": [],
      "include_colab_link": true
    },
    "kernelspec": {
      "name": "python3",
      "display_name": "Python 3"
    },
    "language_info": {
      "name": "python"
    }
  },
  "cells": [
    {
      "cell_type": "markdown",
      "metadata": {
        "id": "view-in-github",
        "colab_type": "text"
      },
      "source": [
        "<a href=\"https://colab.research.google.com/github/NOOBLINUXUSER/NOOBLINUXUSER/blob/main/projectile.ipynb\" target=\"_parent\"><img src=\"https://colab.research.google.com/assets/colab-badge.svg\" alt=\"Open In Colab\"/></a>"
      ]
    },
    {
      "cell_type": "markdown",
      "source": [
        "# Experiment 1: Trajectory of a Projectile"
      ],
      "metadata": {
        "id": "CT-OKlL1QphG"
      }
    },
    {
      "cell_type": "markdown",
      "source": [
        "![iub.png](data:image/png;base64,iVBORw0KGgoAAAANSUhEUgAAASwAAACxCAMAAABJLHBuAAAC+lBMVEVHcEyAKZCBKZCAKZCHLJeCKpF/KY+AKI+OLp+BKZB/KY+AKY+DKpKBKZCLLZt/J5CAKY+KLJmBJZGDK5OCKpFmVk1HOFaGK5WAKZCBKY+BKpB/KI9vOoWBKZCBKpCAKo+CKZCBKpCAKY+AKo89OkWBKo9gV3aAKo/tkRn5lyD2lB/0kh77mCD/oSL1lR71lR/8mSD/nCH3lR/6liD3lSD4liDzkR78lyA+PkIrNpEsNpL5lh8sNpMvOp0tN5QqM47wkh77mCArNZEtOJcrNZL3lR/7mSAsNpEtN5QqNpIvOZotN5QsNpQpMYsuOZksN5QsNZH7mCD5lh76mCA5OUD2lCD6mCDzkR8sN5T3lR8sNpQrNIwrNZH4lSD4liD3lB9jZWlhaGhlZWVoamplZmdlZ2hkZmZkZmZkZWZkZmdkZmdkZmdlZ2dtcHFnaWppa21jZWZjZWZrbW5kZWZmaGlsbm9kZmdjZmZkZmdkZmZkZWZlZ2hlZ2hiZWVkZmdjZmdjZWdkZWdkZmdjZWZjZWZzdXY6Oj02NjY2Njs5OTs5OTo6Ojs4ODg2Njo6Ojw5OTs+Pj40NDw6Ojw7Oz06Ojw5OTw5OTs5OTs6Ojw6Ojw5OTo4ODw6Ojw5OTs6Ojo5OTs5OTs5OTw5OTs5OTs5OTs5OTs5OTw+PkA8PD47Oz06Ojs+PkE/P0E6Ojs9PT86Ojs4ODo6Ojw5OTs6Ojs6Ojw5OTs6Ojw/P0NAQENEREY6Ojs5OTs6Ojs6Ojs6Ojs5OTs6Ojw5OTs5OTw5OTs6Oj05OTs5OTw4ODg5OTs6Ojw9PUA6Ojw4ODw6Ojw4ODo5OTs8PD86Ojs5OTs5OTs6Oj46Ojs9PT86Ojs5OTs5OTw6Ojw5OTw6Ojw5OT05OTs3NzpAQEI7Oz05OTs6Ojw5OTs6Ojw6Ojw6Ojs5OTs5OTs6OjtBQUM5OTw5OTs6Ojs5OTw6Ojw6Ojs5OTs5OTw5OTs5OTs6Ojs5OTs6Ojs5OTw5OTo7Oz47Oz09PT97GrQGAAAA/nRSTlMAcWY7/7UbXv/XMJ7m7/8kkP8S//8BA/+Eqv9ECs7eefdrwUwFVg9SCJZXK8b/WV7t/1b//5Al/wm9XYXn/60pIbve/3lK5f/FOv//khT/8kb7MdYI/agUzmedHIRznV8SHBgWqPDehdfO7LBi////9JT/uf//5Jn/j7T/+ys2jExue6PC/wsWJSQhGBUNIBsTEp/49TC1l2XfESfxWS7DiU4zS4BRqP///7///2r/7Cv/XM6TVDz///+QVqa8nWfn+8t4/blhHkk4FkQ2QA+N/3T8hQ4d8erZi9Kj4o2OE/+IrY/4fsHW5bCC/8Z8yNuxq++Z3XGzm7fFbsiMsd+l+PMAABYCSURBVHgB7NhHgqswEATQshHRRqYJI9zO+f4nnIhn9S30c6q3Yl0dkIQ/w2SKUBSZOEEgSrO8QCCaZfMCYSgp7XyBMFSJ5DWCUNG0NgaF6J5y19oeFGQp2rgVKEDXW1XJ16AAvagqBzE0rFbVlQvQuErUqdoKNG6ZVbGoKxPQmG6TTdZbo3YHGrPY2x4r15r8CTTiIDIFYmldBBpxlCYCTqYdXfFUNGa7BpKyMZsOPtTNrO0BnHPX7Bfw43o3H2eGjWnlAh8aGgvrrRu98rCxZHv9+GjUxPBiYw2zNxVVk5/hwcbKjvcDhGrju/HQLHMF3kSuVW3aAo9QUmbLz9dSVd8Znia2iXBf76qtueER2mTD5bm3yrD8in1WDa80Rt+YFA9Qb83tcwrfyAEP0NHuE7y5GfWHRXVpN8PKEn9Y1BVq7weHsbDoZqQf5tHoOzPFl9HUDp20zp3y6OC3k+ESXc8DwmJYN7xJ9k1AWOysnxIWO4sLPg0PCy/s2sV240oQgOG6d8Kc2K0wM3TiNlPHzAxhev+3GHkqJDzad/0rw+47p0p4pvqpw64J69iZ6vwCVE4/KZ01YLmclF5e8WvlL3eYN6ybABdBupDGG6bOWDiCQoRUx/oPN/zomaEjFo5gKKw81uIe3oI/2h5zwboI8HCYsGB9Ch9+HThjnUWECBOW3ubYwpr7LZroFY+FFcbSjn6t+Kl/LykvOWEFRyOoMlY8kYSv/uAT6Ul7LJbCEVQYi6XlbebnmcXCEsCM3+6BRTaHI6j0GOYLMl3U8MvRwdTYGsD2mBWrVB6NIGFVCrJaw28TOwvL61vHy99Y5hEkrEql3mi28Apxbnl5enJ6FbHsRpCwKg2ZT6LW9MKYf97/G4sZRpCw9AptXPQT4wurfhzD/21HELGulcXCZKd4BADa2uryr5t/UeMIYkKUVMbCWax2QW9ze3n1CytoHEGMB26YylhYGxe9tr+zMObTsXAETcV4LgpAWN+L/mR/e3nqGKIxq5XopRgQFi76Oi76rdPxQ+iHY+bVzgclwAgLF/0Q/4P+nQlLiPsHICzDLD528V8zFg88gcJpaTMWLvrnFytWiF9dgsqxhGzYaDVkumbGEiJyBmp38tqpV2ySryYsXr4Aqpao24xivYhYppMrKpmWDXcsEUtpoEdp7OW50HbD4uUSfEd1H2XDCSvGjSdX1LDYqdtjid4bMKAMZW7bBStWiA/6YI1K5mXDhCXEu/0IUq1mo27A4oEPcIqqVWXhG4v1c5fgHKUVO/ILC840AvGw6BGLAeVl0etYnqJazwXpGYvq5l/BWxRjrQwpeI5pYNNf9usjSXUYCMBwX4LdW1I+A8dxzm4ZjWUanO3hnXvkEpPzbN0fqaXS6iczxhhjjNmOtoOVpSfXjLBz9cJ7ccRw97BlfhAEoQOrSI+xDSZcrBfJ85GbNMxye8OxChSliXXUY3pLYacCZWjmuwIrFCtElKrOYatOkjA1sc6KsH6MVSNhbOaLIKIyKPUVRUOi7eALHAvT3ln1Q9tQEcGXOJZl/mJDLEid4Esc62DmMaiomOAljvUvfhWrKY/zNM2R31Z624OXONbhdSxqhJRKSlkRhg58ib8NG50KhZKCmvbiwRc4VlVOeT6O+XSHREUGGseqStdsW28/4PdgZLocdRzrqGO1ZgQrRRLJi1geGLkiEiPHigoiMZjtCRtSy/ufDvtMUNN0HKtrkRrMxr4fl6qhCvsXPx1Ow+oYI5G633EsmBVSIwSRkA1hEYGxSPPTYYXUFHUHG7VcZUEOGFOqpEBNSBXMcONf5TNVXTrYqtxflpMNN86UJXWQ1sll7l4duTlFeQ/s2cG2D8A+YLue57kveLZtWbb9eu+JWf+HbcrSP5hhm+4V/to1gm1KrurXrmfYpun8ByMwxhhjjDHG2E88tGsmamkkXQM+N4FXwEV4IVwTCkYx2mqMuC91SsoDhUgWNKK4BjEY1yAz9hgV45ZxSYzh36oaaNEkOl8mz//4LW82qqvqnK63T6r7ka6q9nidcAc11dWP4NdRW+2pc8B9OL2eavfNtsdnt+qrvZ5KuI3L4/G44Sd5XF1dA+C+R0ZDo2E0wR00Nza2wK/jSaPR+hTuo81vNLbDNR1+w+i0W13qnLvhNj2GYfTCT9LX2NgM0G8Y/g74MQMMeQ/cwWBANMCvY4hRsB7uIySRheGaJtUetlsRwWkEbhN99vzFCPwkL1+8UPFj98gYJS7vlDVG7BX8OsYJ439B1gSnclkdqj15vTImsR9u421oaGiCn6S/oSEBMEJ8qunvyJr+tbJm/pKsWSVn5D5Zv545JavtL8jyRrtjsVhvdP41FKnsmIvF5qKTJVmutmSsf8EHBRZS0X41vukplFhs6m3vLrXdqfakHpDyQom66Eh77/ybdEmWb34klmxzFkupNxbrT43E5vX8yuTSW55eno+m6u6U1TbX3p0caZ9rqgRFbSoV7UmmUit2eaZSvRXa/Hx/ezGRva5VgEfzUfUhloymFhxQl0q11SdfIp96Eo1GF9pjsRooUhFNpUI3ZI2vIVKakON6Q52Vum+DIxFyKS1Z3neZt6iawbFxp3KxmcZCd7ZY+snRLEerHdXnmdF9KiIagzHQ9I8ZqONzaclyPpkO6vZE5jedbqkxbU1AzP6+BR1EUkrOufnHHbJc2xNIaAXd6FO65jny9ztpsVu6eHEyNwFm9vyIhG8zf8yCYms5J5HMfuiKWyeo1kH7tfCHCHxoZ1hIyw8MdhiBIv2EgdgNWRkhUWiQi2y1ynRkIjKh4JashbggUi2GJLYdkDC5DFjDUfiTANBHjPRwQkFDAMem5EJDnImE7mesEI4sWc5m0xrP0mRmQ1C7ToX0DNE8qQiZQkqp0r14eYesEHJJpUljlVoWJQcC9NEJFmGGvMP5pyBSZxogEtkUQF1G6HUdRmeeIxcFDo0VWBaB05lDfY2YOtD9UlB8EQrsMTZccUPWJPH9iGJzH6V5ChAxJZ6dRhRZrmS5tMzMeSQyxrkU3fA7k3I08n65IUuSbVTCAiLn05HIeQYlNnohwfhOg5rc0qna/iqIpjnnnS3qyCDXshIqvNH85s3pOkoxCI/XkV/o3u2gSv9pMTL6Vupwke47ZPVwiYMRxecdLkUYFiSnaJQ4zYHFNKMjK5F/IBIZiKtEewCvVHtCRfacMu6/jBQ4cMEyo889kS9cSjU40haa4uwJWESRszDckHVCbBQ0njjHVlg8Q9wPgeYLKVlJknTuBEW4UbJT6GLcsMy/bla2+mFZSLKCO1tIiiHYZbhuDXecksQkDCjXQ6AJE8ZXXK2IuWpQ1Ewqy9WuOBamQ9MZp2EAn5LTfc8G38RLqwijZJeWrDnIlRbStsPFOGSIrzeBYlV9MmrgAnmjJXOYRAvYaFmDhQ3eWzJdzKdqdcN5Q5YzQ2wTLDYZZiGFkh2UPTocM77jAYtmhhsqNu5vgaZngosIDBKNgYVHtbvgpcD1KtD0Isde2CDMXT86ONs4Z8tgEWOSRhxxLLn5rCIv3vfoYMuaAY3jI7JmS1Y3fBJ4ZmXuExhcfHpmJ3qiEkXdQaRm0FwR7dXfkDVW/ujQSxxT1noaOfsEN2S5L5BFwKJLYNwxY1dzQdZlgAc7ql6/fl0TmiTV38fwohY0tfvITkGdbcvj14pH3ROctcB7gVknaBY4D8ScBmejZbL0tfhar8dXfSJJ4TJZ5/+QrOKkD4w6i7Jq/JyN6xLfIPYG2iTH9i2dqH5ZyepdOcNiEeh9pvVN1PUDWRUZYgOgeMNwfetbWW/AIsHwzPmEcUyWyWoIyIl1ix0uKacrq3UFLHJI01VxlEa80C+l6LJlWZUWaHfucHZ+U5Y8K4yfkJL1VihZ/WBxyTB7n6z3t2WdX8uCzQDrLDwy7bRpWTK4romrRBRV20uxTrytApHxjc0Zz/dkwRDjjaqnPo7iDfxQ1hLDoCVr7qYsLkzTFKZggcOX0GXLcn5E+lwTRJk2LQQTbK5MVl1J1uUtWaw03vTXVN4nq+mGrIiSNVIu67JMVgr5RAfANqNpsGTZiQ7j7hpbFvgi6xRgLMCMgdXvyFpUlg6UjQBvrL4ly7VRXllBV5huVxb3vzs+fn/e0hI5nnlcJutpFtmoK444HGkpcBADeGnL8lqyjG8qC5uL498nmqD+r1RWxm4160v5I1mOYQosQ43KOGPJ4p9LJ7Y7D7O2LEVV/x9jcSIuclVFWTElqwcKLOslVCgvp2Bj3w3LZVV2p1XiW3uWG2zKZG2tK1mQQ/Yeyuhj5bLCoDe2MllR1LdQm+/KYkNgo3ciflYP9kXnE54fyYIhRh8hxtLri5as8kS2LJvX/YMozWW7siQloYBX6Z6bYxxTd8s6qw1xuxQGi3dDit6SVZA3QzKQgGlK56CMxC1Zk4T7bluWy/uWs5a7ZKn7vspqo8tFUuly/KY+51w/lKUe2rD7A7FlLTnI2egdshSOLLJpOLBkpdLy+ho1MBrsRLoqXiHvDVkN9jrXF50bxBvDbp06p3tSJGnMW/GNLFcsiHoj7ROSulZ+JGsGulT/gE5X+YZh3ArvH3H/WFZlq8o/tAg2x6aU6eY5X/1q7wBKKY7hh7L0E3N8Av0+bWJSxYm57pI1G0fWXJS1kJZ4kSoO75ninEsWA4uXa59ctx5K7XWOC8nxY2fnSXZKsktwXAmZ9g93Hmny/UoW3znpPOrMcZTmuQqMKLG188rq7/R9I2s2qGz7J78M5nakuhYwpMLzjaPC+FFYvC0Llk3JKTu2a+vMCSkJ/XEDmXK1sXiHrI4pvcjPoFlScXiueGKn4LNlHeePNFd7+1yK0n9Dd45J5Lm97uLWqFLmnKBpM+hwCbZNRgsAOfPwtHgND8VZJUCDYGTd/0iPglCryQJmgRdLSpbkhVsME52LWjEJPVxzKNpg91AEi48OyA7HAfobBTHz8LmKejgM4PxiqpnFcOuw6BfmCFhsqvQq4OKJzv/iBEp4BxkjJEIkxvJt+sozdmhPMidhXiUoGJ80OYoYaFwfhJ3o0ADfhDhMgObzC7OAIDPogf86fH4EANG4yZj5ojAkmVbOn5SelflEE/Tlj65U6st8fgkswvn8l6f634HOoyvFyeD5lmrW/defuq2xKkuqylKde5szlYXIr/ZOCt1HVz6Yyee3C7JqOo/yvQCwEBk7KfT+d1IvYmj7qhRuFNyf8/kUWCTy+Q9uULY+nV4d5bvApqJ9dDLubzSCw5thFyiqVY1H7UktELLbqWHj7L0DLBwzH05KiU6hfjqfby9WlnVMr290HmA8n4+AYvag+eQqX7wGV4QXLtCMkC6/n0TvWbXw/41jxdfmfVoB91LhrYG/T80+F8eg8caRMq6/I8sN/+IsC27UgWaGscYo/B1ZK/CvzWIc2SUUSGZewU8TefFcbcP/2vQdCh6CIm43/DTto6ORSviXxtXw5csB/CX+g0P9eij8B0e92wZ+CmetuxLuoNJd64R7cNXWuuDB0z+532ozfOD7mc2wtXXwjvLfmmxt/Qr3EGltfQcPnXliiJgmojQikmithn+YIRHYv0NWjZ+ZB3AP26Y5Cg+dAyElEskpqXyhlObLn3kVIn1xh6yqOLJjuIdRxhrgobPMJA0kkwtNPalk7xVJmqz41bIW/6Ksy4dfWUyKISjSM8ExvgiwWPXIomoRLBzF9pYTSrgLh+orbFnOR0VeX496qkZthdaVLHtW1QoUcaixdhola2BLf6594LKWoMjjOHL/FsB2fN8i3roXA4BQXrc1mc0QaGJfPsaLR76WZPXsl2blWjygqE0cZeO6/VZasma7TtSseOvkeZNqOXcz+0XizVqWNLL688XRH1UPWBYbhyI1ZxzjKwC5F6YFw8DUAsC7Q0RhPn8uCEWwBwC+MoZMWAMYry7KSpmHpgXhYacD4PWRSaSmmYJbsqJZQWqSUAf9/SqGGlf64diFJQtNFYGl6Xln5QOurCdQJEmShh0AiVcFMigDpwDvGZ+YfvV7ZLoRJZt0wTyipP3ty8uGfS6ptyjLU5hzeWqgTKcALk2Zlp2XkctRgytZW1kmaX37fNogSf5VmCQp/7wszDnWsnDj/PJdQ4a4FAcPVxZOJ3YVx32RVuTmLlzjHiMMbsHvTNeboiOHnIdgW0iKPALFQiPHkiybpMFFAnx+jh9ToKi0NvgZNWnAp5ptzSjFV4gjLd3c4M9B4Rxq5JR1P1hZElkR5MYSlNNLfCekZX2sLL17gCnHPlKmaPMMv5UF04z1Qdj+fvyRJeuSUc7+iixw6VCyEt99dBhgGK95+LKIS3+D1yqh2FBi6VM4/Jv+GkjL2nCDJpmWmKwyeGlhj8tluVIzS0uJ8XB4ktiunrT+yH7OSsAesWaXW1O3jmwAjpicakm+/lbWsZL16MHKwtz2hw+XLaN/dhoozYwL4E0jYwGhIFmQRcU3w+Y5x5RHcvbuW1m+E2JMaKwNfYDhRWWZrAzJnbjF+lsZGIB+xjjD4Oew95asIWX54VYWszf4+XXkvAeShJJQw0uyTuBalv629eC2LIAPpkSGmu/KukCJwiJQ+O5pZG+KMWLkH5y5IWtGvyn1YGVRGEp0Cb3RNAiZbplLKt7jd2TVG5wtfyPLM8Ux157UDJOStcnwY7msHPH1k0mL4fyBCxQLiU6/skVitKJM1pMHLUt8ghJfhaR+OGW4UQGaESrKyjhtWcmneoP+RlaM7BLdZmxXBcb40zJZk8Q24RvqwptnXIqRm7KMByzrK5Q4ZZJGYJrRF7DoLm3wH93XspxxpGGweHotK0ycovZrKbvWyy3zZXfDU2UcvseCwVmkXNbD3bOWmWSXHaHZ2VVPKHTAtQzYZjzoKW629t3QljUHeySnCtVYcS2rlyT7DSxOtKy6HY6TIVB4d7hqfxKSduE7eJSsy3JZD/du2Cek5Fz6/Wc7nBOXePYIloXEjb6lxNK7LOc7oVuyeiHGJMeTN0uJ3cgOL8l65Ef5duA4kVjeNCTrA5hWdvyjiaVIhkuWgJC+EGMv+xIWXggnCrzLoBSJW7Kq4EGSJOQckYhQwdE81i9pECchTFMQZ2db8FJQa0FWFJG6wTFQet9emdayAoGsA96ZHNUkdRD58yWAUFxw1G3GMTAHcCAIA2qA5rAbMi9UfA3jzO+BUyE2i7IEBWvgYdLnn9rxlzCyB6AYv/BPvN058xsTE9lxgOW1teFK0Cz4/WtzAM6urH9CY0xJ7IaZtbWMA9x/ru0Yxpkx8dbwZ1YBoO00aPj9O28n/GujTtWeyfhLrCWheU2lUyF2/MGMCvlqba0FLMJraxuP4IFS1xPyrRaY9SyChWu2qafN55tt6niqWouzszXF42qMCxSVdR0Kz9AU5/PgLvbXtHnqfHVNPdWrBbXwum3VF+rpqPOBhbOURwepml31eZqamkKrPm2yfnb2MWh0NJ8D/vXwZhDjK/Af7mDlc76zubm588RA+TwC/+EuqnaeB/TOzIix4Vn4D3fxdDhbIHM+54QHzv8BKvqPU64oknkAAAAASUVORK5CYII=)\n",
        "\n",
        "**PHY 101L: University Physics I Lab**\n",
        "Summer 2023, Section 1, Group 1\n",
        "1.   ID: Full name\n",
        "2.   ID: Full name\n",
        "2.   ID: Full name\n",
        "2.   ID: Full name\n",
        "2.   ID: Full name"
      ],
      "metadata": {
        "id": "zBDGky_lIXRD"
      }
    },
    {
      "cell_type": "markdown",
      "source": [
        "## 1.1 Introduction and Theory: First name"
      ],
      "metadata": {
        "id": "lCJKBpM0Qs_-"
      }
    },
    {
      "cell_type": "markdown",
      "source": [
        "## 1.2 Experimental Setup: First name"
      ],
      "metadata": {
        "id": "g4gW5xTyJCbz"
      }
    },
    {
      "cell_type": "markdown",
      "source": [
        "## 1.3 Method and Data: First name"
      ],
      "metadata": {
        "id": "z_mx5ogxJGKg"
      }
    },
    {
      "cell_type": "markdown",
      "source": [
        "## 1.4 Analysis and Results: First name"
      ],
      "metadata": {
        "id": "22aXl5fBJJds"
      }
    },
    {
      "cell_type": "markdown",
      "source": [
        "### Velocity"
      ],
      "metadata": {
        "id": "gDyNtrMWVCwL"
      }
    },
    {
      "cell_type": "code",
      "source": [
        "import numpy as np\n",
        "\n",
        "g = 981. # cm / s^2\n",
        "y = 10. # cm\n",
        "s = 15.\n",
        "sp = 25.\n",
        "h = 7.\n",
        "\n",
        "t = (2*y/g)**0.5\n",
        "vx = s/t\n",
        "vy = (2*g*h)**0.5\n",
        "tp = (4*h/g)**0.5\n",
        "vxp = (sp-s)/tp\n",
        "vyp = g*tp / 2\n",
        "\n",
        "v = (vx**2+vy**2)**0.5\n",
        "vp = (vxp**2+vyp**2)**0.5\n",
        "\n",
        "theta = np.arctan(vy/vx)\n",
        "thetap = np.arctan(vyp/vxp)\n",
        "\n",
        "print('The angle just before reaching A is %.2f degrees'%(np.degrees(theta)))\n",
        "print('The angle just after leaving A is %.2f degrees'%(np.degrees(thetap)))\n"
      ],
      "metadata": {
        "id": "DHYCkiFIRcqr",
        "outputId": "773d3e35-4793-4fd2-a805-30f4fdc113ae",
        "colab": {
          "base_uri": "https://localhost:8080/"
        }
      },
      "execution_count": null,
      "outputs": [
        {
          "output_type": "stream",
          "name": "stdout",
          "text": [
            "The angle just before reaching A is 48.13 degrees\n",
            "The angle just after leaving A is 54.46 degrees\n"
          ]
        }
      ]
    },
    {
      "cell_type": "markdown",
      "source": [
        "### Kinetic energy"
      ],
      "metadata": {
        "id": "PI2JKX0QVKAp"
      }
    },
    {
      "cell_type": "markdown",
      "source": [
        "### Momentum"
      ],
      "metadata": {
        "id": "sBXPOwoeVMTd"
      }
    },
    {
      "cell_type": "markdown",
      "source": [
        "### Impulse"
      ],
      "metadata": {
        "id": "mKsfSHW4VOGR"
      }
    },
    {
      "cell_type": "markdown",
      "source": [
        "## 1.5 Discussion and Conclusions: First name"
      ],
      "metadata": {
        "id": "97-4Z5rnJOSy"
      }
    }
  ]
}