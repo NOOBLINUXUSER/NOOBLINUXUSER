{
  "nbformat": 4,
  "nbformat_minor": 0,
  "metadata": {
    "colab": {
      "provenance": [],
      "collapsed_sections": [
        "XzhnvRh4NPAj",
        "18VljtfexHuA",
        "TFkSnf50xLyZ",
        "xcJcyyglCB3Y",
        "d6R_AO3tKuQg",
        "dIxuc8yjKxSo"
      ],
      "include_colab_link": true
    },
    "kernelspec": {
      "name": "python3",
      "display_name": "Python 3"
    },
    "language_info": {
      "name": "python"
    }
  },
  "cells": [
    {
      "cell_type": "markdown",
      "metadata": {
        "id": "view-in-github",
        "colab_type": "text"
      },
      "source": [
        "<a href=\"https://colab.research.google.com/github/NOOBLINUXUSER/NOOBLINUXUSER/blob/main/Lecture2.ipynb\" target=\"_parent\"><img src=\"https://colab.research.google.com/assets/colab-badge.svg\" alt=\"Open In Colab\"/></a>"
      ]
    },
    {
      "cell_type": "markdown",
      "source": [
        "# **Operators**\n",
        "\n",
        "---"
      ],
      "metadata": {
        "id": "XzhnvRh4NPAj"
      }
    },
    {
      "cell_type": "markdown",
      "source": [
        "Operators are the constructs, which can manipulate the value of operands.\n",
        "![op.png](data:image/png;base64,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)"
      ],
      "metadata": {
        "id": "6tY2reprN4QN"
      }
    },
    {
      "cell_type": "markdown",
      "source": [
        "Python language supports the following types of operators-\n",
        "\n",
        "✔\tArithmetic Operators\n",
        "\n",
        "✔\tComparison (Relational) Operators\n",
        "\n",
        "✔\tAssignment Operators\n",
        "\n",
        "✔\tLogical Operators\n",
        "\n",
        "✔\tBitwise Operators\n",
        "\n",
        "✔\tMembership Operators\n",
        "\n",
        "✔\tIdentity Operators"
      ],
      "metadata": {
        "id": "GDaYv8SQO7Kq"
      }
    },
    {
      "cell_type": "markdown",
      "source": [
        "#**Arithmetic Operators**"
      ],
      "metadata": {
        "id": "18VljtfexHuA"
      }
    },
    {
      "cell_type": "code",
      "source": [
        "a = 21\n",
        "b = 10\n",
        "c = 0\n",
        "\n",
        "# add two variables\n",
        "c = a + b\n",
        "print('addition: ', c)\n",
        "\n",
        "# subtract two variables\n",
        "c = a - b\n",
        "print('subtraction: ', c)\n",
        "\n",
        "# divide two variables\n",
        "c = a / b\n",
        "print('division: ', c)\n",
        "\n",
        "# Multiply two variables\n",
        "c = a * b\n",
        "print('Multiplication: ', c)\n",
        "\n",
        "# Modulus two variables\n",
        "c = a % b\n",
        "print('Modulus: ', c)\n",
        "\n",
        "# Exponent of two variables\n",
        "c = a ** b\n",
        "print('a^b: ', c)\n",
        "\n",
        "# floor division of two variables\n",
        "c = a // b\n",
        "print('Division: ', c)\n"
      ],
      "metadata": {
        "colab": {
          "base_uri": "https://localhost:8080/"
        },
        "id": "1Q-ki_F3VKXt",
        "outputId": "c2e8fa3f-8fc6-4614-e0c1-897d96872267"
      },
      "execution_count": null,
      "outputs": [
        {
          "output_type": "stream",
          "name": "stdout",
          "text": [
            "addition:  31\n",
            "subtraction:  11\n",
            "division:  2.1\n",
            "Multiplication:  210\n",
            "Modulus:  1\n",
            "a^b:  16679880978201\n",
            "Division:  2\n"
          ]
        }
      ]
    },
    {
      "cell_type": "markdown",
      "source": [
        "**Exercise: 1**\n",
        "\n",
        "a. Take two integer values as input from the user.\n",
        "\n",
        "b. Print the output of (1) division, (2) floor division, (3) Exponent of the two integers."
      ],
      "metadata": {
        "id": "vWCNYdvuWYyH"
      }
    },
    {
      "cell_type": "code",
      "source": [],
      "metadata": {
        "id": "wOQ5Rx9YWbPc",
        "colab": {
          "base_uri": "https://localhost:8080/"
        },
        "outputId": "a9888ca0-ae80-48a9-9f20-ad80c34c8102"
      },
      "execution_count": null,
      "outputs": [
        {
          "output_type": "stream",
          "name": "stdout",
          "text": [
            "Enter 1st number:10\n",
            "Enter 2nd number:3\n",
            "Division:  3.3333333333333335\n",
            "Floor Division:  3\n",
            "Exponent:  1000\n"
          ]
        }
      ]
    },
    {
      "cell_type": "markdown",
      "source": [
        "**Exercise: 2**\n",
        "What would be the output of the following program? **Do it in Pen and paper**. Why are you getting this output?"
      ],
      "metadata": {
        "id": "KuHF3NeCWbji"
      }
    },
    {
      "cell_type": "code",
      "source": [
        "a = 5.2\n",
        "b = 2\n",
        "c = a//b\n",
        "print('Division: ', c)"
      ],
      "metadata": {
        "id": "IgBnLdM2WqOs",
        "colab": {
          "base_uri": "https://localhost:8080/"
        },
        "outputId": "080dc995-c8d6-4cef-f413-5094bf521a8b"
      },
      "execution_count": null,
      "outputs": [
        {
          "output_type": "stream",
          "name": "stdout",
          "text": [
            "Division:  2\n"
          ]
        }
      ]
    },
    {
      "cell_type": "markdown",
      "source": [
        "**Exercise: 3** What would be the output of the following progam? **Do it in Pen and Paper.**\n",
        "\n",
        "**Notice how the values of the variables are changing..**"
      ],
      "metadata": {
        "id": "jkWpitP8Wu7V"
      }
    },
    {
      "cell_type": "code",
      "source": [
        "first_value = 20\n",
        "second_value = 35\n",
        "third_value = 29\n",
        "\n",
        "print(f'{first_value}, {second_value}, {third_value}')\n",
        "\n",
        "x = first_value + third_value\n",
        "print(f'{first_value} + {third_value} = {x}')\n",
        "\n",
        "third_value = third_value + x\n",
        "print(f'{third_value} + {x} = {third_value}')\n",
        "\n",
        "print(f'{first_value}, {second_value}, {third_value}')\n",
        "\n",
        "first_value = third_value // second_value\n",
        "print(f'{first_value}, {second_value}, {third_value}')\n"
      ],
      "metadata": {
        "id": "SBRb08awW2Bk"
      },
      "execution_count": null,
      "outputs": []
    },
    {
      "cell_type": "markdown",
      "source": [
        "#**Assignment Operators**"
      ],
      "metadata": {
        "id": "TFkSnf50xLyZ"
      }
    },
    {
      "cell_type": "markdown",
      "source": [
        "These operators assigns value to a given variable (either directly or after some specified computation as identified by the operator)"
      ],
      "metadata": {
        "id": "30CfeD5S2n-z"
      }
    },
    {
      "cell_type": "code",
      "source": [
        "a = 21\n",
        "b = 10\n",
        "c = 0\n",
        "\n",
        "c = a + b   # add the value of a and b. Then assign the result to c.\n",
        "print (\"c = \", c)"
      ],
      "metadata": {
        "colab": {
          "base_uri": "https://localhost:8080/"
        },
        "id": "8ETx_mb22vY_",
        "outputId": "de1d34ae-8173-4863-cffa-53afa8666169"
      },
      "execution_count": null,
      "outputs": [
        {
          "output_type": "stream",
          "name": "stdout",
          "text": [
            "c =  31\n"
          ]
        }
      ]
    },
    {
      "cell_type": "markdown",
      "source": [
        "**Exercise: 4**\n",
        "\n",
        "1. Declare two variables, and assign one with integer value and the other with float value.\n",
        "2. Print the type of the two variables.\n",
        "3. Add the two numbers and save them in a new variable.\n",
        "4. Print the new variable value and the type of the variable.\n",
        "\n",
        "**What is the type of the new variable having the summation value? Is it different than the type of the input values? Why?**"
      ],
      "metadata": {
        "id": "pG-lkqfrAwKN"
      }
    },
    {
      "cell_type": "code",
      "source": [],
      "metadata": {
        "id": "vJV2rE-PL1Y_"
      },
      "execution_count": null,
      "outputs": []
    },
    {
      "cell_type": "code",
      "source": [
        "a = 30\n",
        "b = 23\n",
        "c = 0\n",
        "\n",
        "c += a                    # c = c + a\n",
        "print (\"Line 1 - Value of c is \", c )\n",
        "c *= a                    # c = c * a\n",
        "print (\"Line 2 - Value of c is \", c )\n",
        "c /= a                    # c = c / a\n",
        "print (\"Line 3 - Value of c is \", c )\n",
        "c = 2\n",
        "c %= a                    # c = c % a\n",
        "print (\"Line 4 - Value of c is \", c)\n",
        "c **= a                   # c = c ** a\n",
        "print (\"Line 5 - Value of c is \", c)\n",
        "c //= a                   # c = c // a\n",
        "print (\"Line 6 - Value of c is \", c)"
      ],
      "metadata": {
        "id": "XQWEVJ6v3Fzo",
        "colab": {
          "base_uri": "https://localhost:8080/"
        },
        "outputId": "3e1d00ae-6e28-449c-80d7-97b48c14d735"
      },
      "execution_count": null,
      "outputs": [
        {
          "output_type": "stream",
          "name": "stdout",
          "text": [
            "Line 1 - Value of c is  30\n",
            "Line 2 - Value of c is  900\n",
            "Line 3 - Value of c is  30.0\n",
            "Line 4 - Value of c is  2\n",
            "Line 5 - Value of c is  1073741824\n",
            "Line 6 - Value of c is  35791394\n"
          ]
        }
      ]
    },
    {
      "cell_type": "markdown",
      "source": [
        "**Exercise: 5**\n",
        "1.   Take two integer variables, a and b, as input from the user.\n",
        "2.   Print the value of a and b.\n",
        "3.   Using the above expression of assignement operator, add a and b, and store the result in a. Print the value of a and b.\n",
        "4.   Using the above expression of assignement operator, multiply a and b, and store the result in a. Print the value of a and b.\n",
        "5.   Using the above expression of assignement operator, floor divide a and b, and store the result in a. Print the value of a and b.\n",
        "\n",
        "**Is the value of varibales a and b are remains same? What is the reason of this behaviour?**"
      ],
      "metadata": {
        "id": "Yvnxp18B4Nhr"
      }
    },
    {
      "cell_type": "code",
      "source": [],
      "metadata": {
        "id": "QVbgEYRMAqGk"
      },
      "execution_count": null,
      "outputs": []
    },
    {
      "cell_type": "markdown",
      "source": [
        "#**Comparison Operators**"
      ],
      "metadata": {
        "id": "xcJcyyglCB3Y"
      }
    },
    {
      "cell_type": "code",
      "source": [
        "a = 20.5\n",
        "b = 20.5\n",
        "\n",
        "test = a > b   # checks a is greater than b. RESULT: True or False\n",
        "print(f'{a} > {b} is {test}')\n",
        "\n",
        "test = a < b  # checks a is less than b. RESULT: True or False\n",
        "print(f'{a} < {b} is {test}')\n",
        "\n",
        "test = a >= b # checks a is greater than or equal to b. RESULT: True or False\n",
        "print(f'{a} >= {b} is {test}')\n",
        "\n",
        "test = a <= b # checks a is less than or equal to b. RESULT: True or False\n",
        "print(f'{a} <= {b} is {test}')\n",
        "\n",
        "test = a == b # checks a is equal to b. RESULT: True or False\n",
        "print(f'{a} <= {b} is {test}')"
      ],
      "metadata": {
        "colab": {
          "base_uri": "https://localhost:8080/"
        },
        "id": "8kywqgrLEfCM",
        "outputId": "eb29cdcb-e9ab-44ef-8e2f-93a2fccb5964"
      },
      "execution_count": null,
      "outputs": [
        {
          "output_type": "stream",
          "name": "stdout",
          "text": [
            "20.5 > 20.5 is False\n",
            "20.5 < 20.5 is False\n",
            "20.5 >= 20.5 is True\n",
            "20.5 <= 20.5 is True\n",
            "20.5 <= 20.5 is True\n"
          ]
        }
      ]
    },
    {
      "cell_type": "markdown",
      "source": [
        "**Exercise: 6**\n",
        "\n",
        "Take two numbers as input. Check and print whether they are equal to or not."
      ],
      "metadata": {
        "id": "fakwqMLQF5Uo"
      }
    },
    {
      "cell_type": "code",
      "source": [
        "\n"
      ],
      "metadata": {
        "id": "mBiefI7pGMa4"
      },
      "execution_count": null,
      "outputs": []
    },
    {
      "cell_type": "markdown",
      "source": [
        "**Comparison and decision making**\n",
        "\n",
        "We can compare two or more values using **if-statemement** and take decision accordingly."
      ],
      "metadata": {
        "id": "K0yw_Ul8JLsF"
      }
    },
    {
      "cell_type": "code",
      "source": [
        "a = 19.5\n",
        "b = 20.3\n",
        "\n",
        "if a > b:\n",
        "  print(f'{a} > {b}')\n",
        "else:\n",
        "  print(f'{a} < {b}')"
      ],
      "metadata": {
        "colab": {
          "base_uri": "https://localhost:8080/"
        },
        "id": "oPTpAm0cJaq8",
        "outputId": "cfa8cbcc-c034-4afc-d8bb-199c42fb58ea"
      },
      "execution_count": null,
      "outputs": [
        {
          "output_type": "stream",
          "name": "stdout",
          "text": [
            "19.5 < 20.3\n"
          ]
        }
      ]
    },
    {
      "cell_type": "markdown",
      "source": [
        "**Exercise: 7**\n",
        "\n",
        "Using if statement check whether two numbers are equal or not and print the result."
      ],
      "metadata": {
        "id": "0skM6ttHKO_G"
      }
    },
    {
      "cell_type": "code",
      "source": [],
      "metadata": {
        "id": "c2xzOetHKiPd"
      },
      "execution_count": null,
      "outputs": []
    },
    {
      "cell_type": "markdown",
      "source": [
        "#**Logical Operator**"
      ],
      "metadata": {
        "id": "pEX4qsfuKmyI"
      }
    },
    {
      "cell_type": "markdown",
      "source": [
        "**and** Logical AND operation\n",
        "\n",
        "**or** Logical OR operation\n",
        "\n",
        "**not** Logical NOT operation\n",
        "\n",
        "Returns boolean result **True or False** depending on the comparison operation."
      ],
      "metadata": {
        "id": "d7kYRZrCjCuv"
      }
    },
    {
      "cell_type": "markdown",
      "source": [
        "Logical **and** operation is used when we need to compare more than one condition and all the conditions have to be true to perform a task."
      ],
      "metadata": {
        "id": "_aPPHiT9jflU"
      }
    },
    {
      "cell_type": "code",
      "source": [
        "# turn on the ac if the temparature is greater than 38 and humidity is greater than or equal to 86.\n",
        "\n",
        "temp = int(input('Enter Current Temperature: '))\n",
        "humid = int(input('Enter Current Humidity: '))\n",
        "\n",
        "if temp > 38 and humid >=86:\n",
        "  print('Turn the AC on')\n",
        "else:\n",
        "  print('Turn the AC off')"
      ],
      "metadata": {
        "colab": {
          "base_uri": "https://localhost:8080/"
        },
        "id": "dPLD_122j9me",
        "outputId": "e1c9238b-a9da-4cda-e53d-63b32d2220a4"
      },
      "execution_count": null,
      "outputs": [
        {
          "output_type": "stream",
          "name": "stdout",
          "text": [
            "Enter Current Temperature: 37\n",
            "Enter Current Humidity: 89\n",
            "Turn the AC off\n"
          ]
        }
      ]
    },
    {
      "cell_type": "markdown",
      "source": [
        "Logical **or** operation is used when we need to compare more than one condition and any /some of the conditions have to be true to perform a task."
      ],
      "metadata": {
        "id": "z6KbetpgjuCu"
      }
    },
    {
      "cell_type": "code",
      "source": [
        "# You will pass the course either by getting more than 90 marks in the project or by passing final term exam.\n",
        "\n",
        "project_marks = int(input('Enter Project Marks: '))\n",
        "final_exam = (input('Enter Final Exam status (Pass / Fail): '))\n",
        "\n",
        "if project_marks > 90 or final_exam == 'Pass':\n",
        "  print('You have passed the course')\n",
        "else:\n",
        "  print('You failed in the course')"
      ],
      "metadata": {
        "colab": {
          "base_uri": "https://localhost:8080/"
        },
        "id": "n2QGo4Gxj-cI",
        "outputId": "7a1be000-1d9b-438e-c3dc-3e469a8c2c1a"
      },
      "execution_count": null,
      "outputs": [
        {
          "output_type": "stream",
          "name": "stdout",
          "text": [
            "Enter Project Marks: 90\n",
            "Enter Final Exam status (Pass / Fail): Fail\n",
            "You failed in the course\n"
          ]
        }
      ]
    },
    {
      "cell_type": "markdown",
      "source": [
        "Logical **not** operation toggles the state of a variable: True to False | False to True"
      ],
      "metadata": {
        "id": "41bRXXn2j0Bj"
      }
    },
    {
      "cell_type": "code",
      "source": [
        "a = 25\n",
        "b = 45\n",
        "\n",
        "c = a < b  # what is the value of c?\n",
        "print(f'{c}')\n",
        "\n",
        "c = not(c) # togglilng the value of c\n",
        "print(f'{c}')"
      ],
      "metadata": {
        "id": "gBgjkNl_j_k1",
        "colab": {
          "base_uri": "https://localhost:8080/"
        },
        "outputId": "2158e895-5ca3-4933-b740-bb560b95013a"
      },
      "execution_count": null,
      "outputs": [
        {
          "output_type": "stream",
          "name": "stdout",
          "text": [
            "True\n",
            "False\n"
          ]
        }
      ]
    },
    {
      "cell_type": "markdown",
      "source": [
        "**Exercise: 8**\n",
        "\n",
        "\n",
        "1.   Take student quiz marks and lab marks in two variables (q_mark and l_mark)\n",
        "2.   If the q_mark is greater than l_mark and l_mark is greater than or equal to 6.5, then print 'You will get bonus marks', otherwise print 'No bonus marks'\n",
        "\n",
        "\n"
      ],
      "metadata": {
        "id": "u6AVCLoNkAon"
      }
    },
    {
      "cell_type": "code",
      "source": [],
      "metadata": {
        "id": "ZUEoYlupkGM3"
      },
      "execution_count": null,
      "outputs": []
    },
    {
      "cell_type": "markdown",
      "source": [
        "**Exercise: 9**\n",
        "\n",
        "\n",
        "1.   Take ticket price and bonus point in two variables (tic_price and bon_point)\n",
        "2.   If the tic_price is greater than 550 or bon_point is equal to 1200, then print 'You will get 10% discount', otherwise print 'No discount'\n",
        "\n",
        "\n"
      ],
      "metadata": {
        "id": "OjjTXmgt8huP"
      }
    },
    {
      "cell_type": "code",
      "source": [],
      "metadata": {
        "id": "5Onk5ElGkJeW"
      },
      "execution_count": null,
      "outputs": []
    },
    {
      "cell_type": "markdown",
      "source": [
        "#**Identity Operator**"
      ],
      "metadata": {
        "id": "d6R_AO3tKuQg"
      }
    },
    {
      "cell_type": "markdown",
      "source": [
        "Identity Operators checks whether two variables are same or not."
      ],
      "metadata": {
        "id": "xHQAS8cyg8zC"
      }
    },
    {
      "cell_type": "markdown",
      "source": [
        "**is** Operator checks whehter two variables are same or not."
      ],
      "metadata": {
        "id": "TCTItldYhHdn"
      }
    },
    {
      "cell_type": "code",
      "source": [
        "a = 20\n",
        "b = 20\n",
        "print ('a=',a,':',id(a), 'b=',b,':',id(b))\n",
        "\n",
        "if ( a is b ):\n",
        " print (f\"{a} and {b} have same identity\")\n",
        "else:\n",
        " print (f\"{a} and {b} do not have same identity\")\n",
        "\n",
        "# same can be done with id() operator and using == compraison operator\n",
        "if ( id(a) == id(b) ):\n",
        " print (f\"{a} and {b} have same identity\")\n",
        "else:\n",
        " print (f\"{a} and {b} do not have same identity\")"
      ],
      "metadata": {
        "id": "lDJKpiX3XPmd",
        "colab": {
          "base_uri": "https://localhost:8080/"
        },
        "outputId": "3ff376e7-9ef2-45e4-c38f-603576326aec"
      },
      "execution_count": null,
      "outputs": [
        {
          "output_type": "stream",
          "name": "stdout",
          "text": [
            "a= 20 : 139621255873360 b= 20 : 139621255873360\n",
            "20 and 20 have same identity\n",
            "20 and 20 have same identity\n"
          ]
        }
      ]
    },
    {
      "cell_type": "markdown",
      "source": [
        "**Exercise: 10**\n",
        "\n",
        "1. Take two integer variables as input from the user.\n",
        "2. Then check whether they are same or not using \"is\" operator."
      ],
      "metadata": {
        "id": "3OnN7DXaiTDk"
      }
    },
    {
      "cell_type": "code",
      "source": [],
      "metadata": {
        "id": "rZdGlFQ4ifRc"
      },
      "execution_count": null,
      "outputs": []
    },
    {
      "cell_type": "markdown",
      "source": [
        "**is not** Operator checks whether two variables are not the same."
      ],
      "metadata": {
        "id": "QgvIbaojhRpL"
      }
    },
    {
      "cell_type": "code",
      "source": [
        "a = 20\n",
        "b = 30\n",
        "print ('Line 4','a=',a,':',id(a), 'b=',b,':',id(b))\n",
        "\n",
        "if ( a is not b ):\n",
        " print (f\"{a} and {b} do not have same identity\")\n",
        "else:\n",
        " print (f\"{a} and {b} have same identity\")"
      ],
      "metadata": {
        "id": "WBsyyKs2hZCA"
      },
      "execution_count": null,
      "outputs": []
    },
    {
      "cell_type": "markdown",
      "source": [
        "**Exercise: 11**\n",
        "\n",
        "1. Take two integer variables as input from the user.\n",
        "2. Then check whether they are same or not using \"is not\" operator."
      ],
      "metadata": {
        "id": "6m8h6LhtivWg"
      }
    },
    {
      "cell_type": "code",
      "source": [],
      "metadata": {
        "id": "5VERpl79i03y"
      },
      "execution_count": null,
      "outputs": []
    },
    {
      "cell_type": "markdown",
      "source": [
        "#**Membership Operator**"
      ],
      "metadata": {
        "id": "dIxuc8yjKxSo"
      }
    },
    {
      "cell_type": "markdown",
      "source": [
        "Membership operator finds whether a given variable is in the list or not - it returns **true / false** accordingly."
      ],
      "metadata": {
        "id": "c3yHpf5pUbH-"
      }
    },
    {
      "cell_type": "markdown",
      "source": [
        "**in** operators checks whether a variable is in the list or not."
      ],
      "metadata": {
        "id": "B_yAFH62VWVm"
      }
    },
    {
      "cell_type": "code",
      "source": [
        "a = 5\n",
        "b = 20\n",
        "list = [1, 2, 3, 4, 5 ]\n",
        "\n",
        "if ( a in list ):\n",
        " print(f\"{a} is available in the given list\")\n",
        "else:\n",
        " print(f\"{a} is not available in the given list\")"
      ],
      "metadata": {
        "colab": {
          "base_uri": "https://localhost:8080/"
        },
        "id": "3EZHnCNGUbYc",
        "outputId": "ba307f04-5eb0-4356-d994-00e7935a72f2"
      },
      "execution_count": null,
      "outputs": [
        {
          "output_type": "stream",
          "name": "stdout",
          "text": [
            "5 is available in the given list\n"
          ]
        }
      ]
    },
    {
      "cell_type": "markdown",
      "source": [
        "**Exercise: 12**\n",
        "\n",
        "Write code using **in** operator to check whether **b** is in the list or not."
      ],
      "metadata": {
        "id": "RkY4jdG1Vvtr"
      }
    },
    {
      "cell_type": "code",
      "source": [
        "a = 5\n",
        "b = 20\n",
        "list = [1, 2, 3, 4, 5 ]\n",
        "\n",
        "# Write your code here\n"
      ],
      "metadata": {
        "id": "Rwf6wFR2VyFT"
      },
      "execution_count": null,
      "outputs": []
    },
    {
      "cell_type": "markdown",
      "source": [
        "**not in** operators checks whether a variable is in the list or not."
      ],
      "metadata": {
        "id": "O_CLj_EcWFf1"
      }
    },
    {
      "cell_type": "code",
      "source": [
        "a = 2.1\n",
        "b = 20\n",
        "list = [1, 2, 3, 4, 5 ]\n",
        "\n",
        "if ( b not in list ):\n",
        " print (f\"{b} is not available in the given list\")\n",
        "else:\n",
        " print (f\"{b} is available in the given list\")"
      ],
      "metadata": {
        "id": "YdnkIDduUuNn"
      },
      "execution_count": null,
      "outputs": []
    },
    {
      "cell_type": "markdown",
      "source": [
        "**Exercise: 13**\n",
        "\n",
        "Write code to check whether variable **a** is **not in** the list?"
      ],
      "metadata": {
        "id": "WVyql1Q7WXBb"
      }
    },
    {
      "cell_type": "code",
      "source": [
        "a = 2.1\n",
        "b = 20\n",
        "list = [1, 2, 3, 4, 5 ]\n",
        "\n",
        "#Write your code here.\n"
      ],
      "metadata": {
        "id": "THl2crPfWga1"
      },
      "execution_count": null,
      "outputs": []
    },
    {
      "cell_type": "markdown",
      "source": [
        "**Exercise: 14**\n",
        "\n",
        "What is the output of the following program?\n",
        "**Do it in pen and paper and then run the code to match your answer.**"
      ],
      "metadata": {
        "id": "QNDCAFhAUxIU"
      }
    },
    {
      "cell_type": "code",
      "source": [
        "a = 10\n",
        "b = 20\n",
        "list = [1, 2, 3, 4, 5 ]\n",
        "\n",
        "c=b/a\n",
        "if ( c in list ):\n",
        " print (f\"{c} is available in the given list\")\n",
        "else:\n",
        " print (f\"{c} is not available in the given list\")"
      ],
      "metadata": {
        "colab": {
          "base_uri": "https://localhost:8080/"
        },
        "id": "4bV54I2nUuph",
        "outputId": "e162c347-48f1-4e42-eba5-43cfb0039c8d"
      },
      "execution_count": null,
      "outputs": [
        {
          "output_type": "stream",
          "name": "stdout",
          "text": [
            "2.0 is available in the given list\n"
          ]
        }
      ]
    }
  ]
}